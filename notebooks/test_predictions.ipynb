{
 "cells": [
  {
   "cell_type": "code",
   "execution_count": 3,
   "id": "ae052833",
   "metadata": {
    "execution": {
     "iopub.execute_input": "2023-07-01T14:43:26.428612Z",
     "iopub.status.busy": "2023-07-01T14:43:26.428224Z",
     "iopub.status.idle": "2023-07-01T14:43:38.785413Z",
     "shell.execute_reply": "2023-07-01T14:43:38.783585Z"
    },
    "papermill": {
     "duration": 12.384888,
     "end_time": "2023-07-01T14:43:38.788740",
     "exception": false,
     "start_time": "2023-07-01T14:43:26.403852",
     "status": "completed"
    },
    "tags": []
   },
   "outputs": [],
   "source": [
    "import numpy as np\n",
    "import pandas as pd\n",
    "from matplotlib import pyplot as plt\n",
    "from sklearn.model_selection import train_test_split\n",
    "from sklearn.ensemble import RandomForestRegressor\n",
    "from math import *\n",
    "from sklearn.linear_model import LinearRegression\n",
    "from sklearn.ensemble import GradientBoostingRegressor,AdaBoostRegressor, RandomForestClassifier\n",
    "from sklearn.neighbors import KNeighborsRegressor\n",
    "from sklearn.linear_model import LinearRegression, Ridge, Lasso\n",
    "from sklearn.metrics import mean_squared_error\n",
    "from sklearn.metrics import r2_score\n",
    "from sklearn.tree import DecisionTreeRegressor\n",
    "import seaborn as sns\n",
    "import time"
   ]
  },
  {
   "cell_type": "code",
   "execution_count": 4,
   "id": "02972fb4",
   "metadata": {
    "execution": {
     "iopub.execute_input": "2023-07-01T14:43:38.836567Z",
     "iopub.status.busy": "2023-07-01T14:43:38.834663Z",
     "iopub.status.idle": "2023-07-01T14:43:40.300747Z",
     "shell.execute_reply": "2023-07-01T14:43:40.299539Z"
    },
    "papermill": {
     "duration": 1.492431,
     "end_time": "2023-07-01T14:43:40.303572",
     "exception": false,
     "start_time": "2023-07-01T14:43:38.811141",
     "status": "completed"
    },
    "tags": []
   },
   "outputs": [],
   "source": [
    "train_df = pd.read_csv('../data/raw/dmml1_train.csv')\n",
    "test_df = pd.read_csv('../data/raw/dmml1_test.csv')\n",
    "store = pd.read_csv('../data/raw/dmml1_stores.csv')"
   ]
  },
  {
   "cell_type": "code",
   "execution_count": 5,
   "id": "0910bf24",
   "metadata": {},
   "outputs": [
    {
     "data": {
      "text/html": [
       "<div>\n",
       "<style scoped>\n",
       "    .dataframe tbody tr th:only-of-type {\n",
       "        vertical-align: middle;\n",
       "    }\n",
       "\n",
       "    .dataframe tbody tr th {\n",
       "        vertical-align: top;\n",
       "    }\n",
       "\n",
       "    .dataframe thead th {\n",
       "        text-align: right;\n",
       "    }\n",
       "</style>\n",
       "<table border=\"1\" class=\"dataframe\">\n",
       "  <thead>\n",
       "    <tr style=\"text-align: right;\">\n",
       "      <th></th>\n",
       "      <th>Store ID</th>\n",
       "      <th>DayOfWeek</th>\n",
       "      <th>Date</th>\n",
       "      <th>Sales</th>\n",
       "      <th>Customers</th>\n",
       "      <th>Open</th>\n",
       "      <th>Promo</th>\n",
       "      <th>StateHoliday</th>\n",
       "      <th>SchoolHoliday</th>\n",
       "    </tr>\n",
       "  </thead>\n",
       "  <tbody>\n",
       "    <tr>\n",
       "      <th>0</th>\n",
       "      <td>1</td>\n",
       "      <td>4</td>\n",
       "      <td>2015-04-30</td>\n",
       "      <td>6884</td>\n",
       "      <td>716</td>\n",
       "      <td>1</td>\n",
       "      <td>1</td>\n",
       "      <td>0</td>\n",
       "      <td>0</td>\n",
       "    </tr>\n",
       "    <tr>\n",
       "      <th>1</th>\n",
       "      <td>1</td>\n",
       "      <td>3</td>\n",
       "      <td>2015-04-29</td>\n",
       "      <td>6764</td>\n",
       "      <td>756</td>\n",
       "      <td>1</td>\n",
       "      <td>1</td>\n",
       "      <td>0</td>\n",
       "      <td>0</td>\n",
       "    </tr>\n",
       "    <tr>\n",
       "      <th>2</th>\n",
       "      <td>1</td>\n",
       "      <td>2</td>\n",
       "      <td>2015-04-28</td>\n",
       "      <td>6861</td>\n",
       "      <td>678</td>\n",
       "      <td>1</td>\n",
       "      <td>1</td>\n",
       "      <td>0</td>\n",
       "      <td>0</td>\n",
       "    </tr>\n",
       "    <tr>\n",
       "      <th>3</th>\n",
       "      <td>1</td>\n",
       "      <td>1</td>\n",
       "      <td>2015-04-27</td>\n",
       "      <td>6523</td>\n",
       "      <td>647</td>\n",
       "      <td>1</td>\n",
       "      <td>1</td>\n",
       "      <td>0</td>\n",
       "      <td>0</td>\n",
       "    </tr>\n",
       "    <tr>\n",
       "      <th>4</th>\n",
       "      <td>1</td>\n",
       "      <td>7</td>\n",
       "      <td>2015-04-26</td>\n",
       "      <td>0</td>\n",
       "      <td>0</td>\n",
       "      <td>0</td>\n",
       "      <td>0</td>\n",
       "      <td>0</td>\n",
       "      <td>0</td>\n",
       "    </tr>\n",
       "    <tr>\n",
       "      <th>...</th>\n",
       "      <td>...</td>\n",
       "      <td>...</td>\n",
       "      <td>...</td>\n",
       "      <td>...</td>\n",
       "      <td>...</td>\n",
       "      <td>...</td>\n",
       "      <td>...</td>\n",
       "      <td>...</td>\n",
       "      <td>...</td>\n",
       "    </tr>\n",
       "    <tr>\n",
       "      <th>246898</th>\n",
       "      <td>300</td>\n",
       "      <td>6</td>\n",
       "      <td>2013-01-05</td>\n",
       "      <td>5194</td>\n",
       "      <td>569</td>\n",
       "      <td>1</td>\n",
       "      <td>0</td>\n",
       "      <td>0</td>\n",
       "      <td>0</td>\n",
       "    </tr>\n",
       "    <tr>\n",
       "      <th>246899</th>\n",
       "      <td>300</td>\n",
       "      <td>5</td>\n",
       "      <td>2013-01-04</td>\n",
       "      <td>5524</td>\n",
       "      <td>646</td>\n",
       "      <td>1</td>\n",
       "      <td>0</td>\n",
       "      <td>0</td>\n",
       "      <td>1</td>\n",
       "    </tr>\n",
       "    <tr>\n",
       "      <th>246900</th>\n",
       "      <td>300</td>\n",
       "      <td>4</td>\n",
       "      <td>2013-01-03</td>\n",
       "      <td>5563</td>\n",
       "      <td>718</td>\n",
       "      <td>1</td>\n",
       "      <td>0</td>\n",
       "      <td>0</td>\n",
       "      <td>1</td>\n",
       "    </tr>\n",
       "    <tr>\n",
       "      <th>246901</th>\n",
       "      <td>300</td>\n",
       "      <td>3</td>\n",
       "      <td>2013-01-02</td>\n",
       "      <td>6218</td>\n",
       "      <td>753</td>\n",
       "      <td>1</td>\n",
       "      <td>0</td>\n",
       "      <td>0</td>\n",
       "      <td>1</td>\n",
       "    </tr>\n",
       "    <tr>\n",
       "      <th>246902</th>\n",
       "      <td>300</td>\n",
       "      <td>2</td>\n",
       "      <td>2013-01-01</td>\n",
       "      <td>0</td>\n",
       "      <td>0</td>\n",
       "      <td>0</td>\n",
       "      <td>0</td>\n",
       "      <td>a</td>\n",
       "      <td>1</td>\n",
       "    </tr>\n",
       "  </tbody>\n",
       "</table>\n",
       "<p>246903 rows × 9 columns</p>\n",
       "</div>"
      ],
      "text/plain": [
       "        Store ID  DayOfWeek        Date  Sales  Customers  Open  Promo  \\\n",
       "0              1          4  2015-04-30   6884        716     1      1   \n",
       "1              1          3  2015-04-29   6764        756     1      1   \n",
       "2              1          2  2015-04-28   6861        678     1      1   \n",
       "3              1          1  2015-04-27   6523        647     1      1   \n",
       "4              1          7  2015-04-26      0          0     0      0   \n",
       "...          ...        ...         ...    ...        ...   ...    ...   \n",
       "246898       300          6  2013-01-05   5194        569     1      0   \n",
       "246899       300          5  2013-01-04   5524        646     1      0   \n",
       "246900       300          4  2013-01-03   5563        718     1      0   \n",
       "246901       300          3  2013-01-02   6218        753     1      0   \n",
       "246902       300          2  2013-01-01      0          0     0      0   \n",
       "\n",
       "       StateHoliday  SchoolHoliday  \n",
       "0                 0              0  \n",
       "1                 0              0  \n",
       "2                 0              0  \n",
       "3                 0              0  \n",
       "4                 0              0  \n",
       "...             ...            ...  \n",
       "246898            0              0  \n",
       "246899            0              1  \n",
       "246900            0              1  \n",
       "246901            0              1  \n",
       "246902            a              1  \n",
       "\n",
       "[246903 rows x 9 columns]"
      ]
     },
     "execution_count": 5,
     "metadata": {},
     "output_type": "execute_result"
    }
   ],
   "source": [
    "train_df"
   ]
  },
  {
   "cell_type": "code",
   "execution_count": 6,
   "id": "ee9664f4",
   "metadata": {},
   "outputs": [],
   "source": [
    "train_df = pd.merge(train_df,store,how=\"inner\",on=\"Store ID\")\n",
    "test_df = pd.merge(test_df,store,how=\"inner\",on=\"Store ID\")"
   ]
  },
  {
   "cell_type": "code",
   "execution_count": 7,
   "id": "150bdeb0",
   "metadata": {
    "execution": {
     "iopub.execute_input": "2023-07-01T14:43:44.707943Z",
     "iopub.status.busy": "2023-07-01T14:43:44.707245Z",
     "iopub.status.idle": "2023-07-01T14:43:46.472196Z",
     "shell.execute_reply": "2023-07-01T14:43:46.470895Z"
    },
    "papermill": {
     "duration": 1.793553,
     "end_time": "2023-07-01T14:43:46.475159",
     "exception": false,
     "start_time": "2023-07-01T14:43:44.681606",
     "status": "completed"
    },
    "tags": []
   },
   "outputs": [],
   "source": [
    "train_df[\"CompetitionDistance\"].replace(np.nan,train_df[\"CompetitionDistance\"].mean(),inplace=True)\n",
    "train_df.fillna(0,inplace=True)"
   ]
  },
  {
   "cell_type": "code",
   "execution_count": 8,
   "id": "5817763a",
   "metadata": {
    "execution": {
     "iopub.execute_input": "2023-07-01T14:43:47.491306Z",
     "iopub.status.busy": "2023-07-01T14:43:47.490905Z",
     "iopub.status.idle": "2023-07-01T14:43:47.548836Z",
     "shell.execute_reply": "2023-07-01T14:43:47.547674Z"
    },
    "papermill": {
     "duration": 0.088095,
     "end_time": "2023-07-01T14:43:47.551544",
     "exception": false,
     "start_time": "2023-07-01T14:43:47.463449",
     "status": "completed"
    },
    "tags": []
   },
   "outputs": [],
   "source": [
    "train_df[\"StateHoliday\"].replace(\"0\",0,inplace=True)"
   ]
  },
  {
   "cell_type": "code",
   "execution_count": 9,
   "id": "0e357211",
   "metadata": {},
   "outputs": [],
   "source": [
    "train_df['Date'] = pd.to_datetime(train_df['Date'])\n",
    "train_df['Year'] = train_df['Date'].dt.year\n",
    "train_df['Month'] = train_df['Date'].dt.month\n",
    "train_df['Day'] = train_df['Date'].dt.day\n",
    "train_df['WeekOfYear'] = train_df['Date'].dt.isocalendar().week\n",
    "train_df['Weekend'] = np.where(train_df['DayOfWeek'].isin([6, 7]), 1, 0)  # Samstag = 6, Sonntag = 7\n",
    "\n",
    "train_df['Quarter'] = train_df['Date'].dt.quarter\n",
    "train_df['DayOfYear'] = train_df['Date'].dt.dayofyear\n",
    "train_df['DayOfMonth'] = train_df['Date'].dt.day\n",
    "\n",
    "train_df['Season'] = train_df['Month'].apply(lambda month: (month%12 // 3 + 1))\n",
    "train_df['Season'].replace(to_replace=[1,2,3,4], value=['Winter', 'Frühling','Sommer','Herbst'], inplace=True)\n",
    "\n",
    "# Entfernen der ursprünglichen Date-Spalte\n",
    "train_df.drop('Date', axis=1, inplace=True)"
   ]
  },
  {
   "cell_type": "code",
   "execution_count": 10,
   "id": "3c6e720e",
   "metadata": {
    "execution": {
     "iopub.execute_input": "2023-07-01T14:44:26.312900Z",
     "iopub.status.busy": "2023-07-01T14:44:26.312219Z",
     "iopub.status.idle": "2023-07-01T14:44:26.532176Z",
     "shell.execute_reply": "2023-07-01T14:44:26.531063Z"
    },
    "papermill": {
     "duration": 0.267116,
     "end_time": "2023-07-01T14:44:26.534855",
     "exception": false,
     "start_time": "2023-07-01T14:44:26.267739",
     "status": "completed"
    },
    "tags": []
   },
   "outputs": [],
   "source": [
    "train_df[\"StateHoliday\"] = train_df[\"StateHoliday\"].replace(\"a\",\"Public Holiday\").replace(\"b\",\"Ostern\").replace(\"c\",\"Weihnachten\").replace(0,\"Kein Feiertag\")"
   ]
  },
  {
   "cell_type": "code",
   "execution_count": 11,
   "id": "ed7dddb6",
   "metadata": {
    "execution": {
     "iopub.execute_input": "2023-07-01T14:44:26.848338Z",
     "iopub.status.busy": "2023-07-01T14:44:26.847923Z",
     "iopub.status.idle": "2023-07-01T14:44:27.078052Z",
     "shell.execute_reply": "2023-07-01T14:44:27.076770Z"
    },
    "papermill": {
     "duration": 0.278163,
     "end_time": "2023-07-01T14:44:27.080832",
     "exception": false,
     "start_time": "2023-07-01T14:44:26.802669",
     "status": "completed"
    },
    "tags": []
   },
   "outputs": [],
   "source": [
    "train_df[\"StoreType\"] = train_df[\"StoreType\"].replace(\"a\",\"Type A\").replace(\"b\",\"Type B\").replace(\"c\",\"Type C\").replace(\"d\",\"Type D\")"
   ]
  },
  {
   "cell_type": "code",
   "execution_count": 12,
   "id": "7e2130d6",
   "metadata": {
    "execution": {
     "iopub.execute_input": "2023-07-01T14:44:27.394598Z",
     "iopub.status.busy": "2023-07-01T14:44:27.393972Z",
     "iopub.status.idle": "2023-07-01T14:44:27.571647Z",
     "shell.execute_reply": "2023-07-01T14:44:27.570593Z"
    },
    "papermill": {
     "duration": 0.225298,
     "end_time": "2023-07-01T14:44:27.574350",
     "exception": false,
     "start_time": "2023-07-01T14:44:27.349052",
     "status": "completed"
    },
    "tags": []
   },
   "outputs": [],
   "source": [
    "train_df[\"Assortment\"] = train_df[\"Assortment\"].replace(\"a\",\"Basic\").replace(\"b\",\"Extra\").replace(\"c\",\"Extended\")"
   ]
  },
  {
   "cell_type": "code",
   "execution_count": 13,
   "id": "7ac741cc",
   "metadata": {
    "execution": {
     "iopub.execute_input": "2023-07-01T14:44:27.891791Z",
     "iopub.status.busy": "2023-07-01T14:44:27.891140Z",
     "iopub.status.idle": "2023-07-01T14:44:28.134755Z",
     "shell.execute_reply": "2023-07-01T14:44:28.133493Z"
    },
    "papermill": {
     "duration": 0.290868,
     "end_time": "2023-07-01T14:44:28.137482",
     "exception": false,
     "start_time": "2023-07-01T14:44:27.846614",
     "status": "completed"
    },
    "tags": []
   },
   "outputs": [
    {
     "name": "stderr",
     "output_type": "stream",
     "text": [
      "/var/folders/jq/xvfn2vg55lsc1wx2_2mrh3640000gn/T/ipykernel_54027/3265133220.py:16: FutureWarning: In a future version of pandas all arguments of DataFrame.drop except for the argument 'labels' will be keyword-only.\n",
      "  train_df = train_df.drop('PromoInterval',1).join(proInt)\n"
     ]
    }
   ],
   "source": [
    "# train_df[\"PromoInterval\"] = train_df[\"PromoInterval\"].replace(0,\"No PromoInterval\").replace(\"Jan,Apr,Jul,Oct\",\"From Jan to Oct\").replace(\"Feb,May,Aug,Nov\",\"From Feb to Nov\").replace(\"Mar,Jun,Sept,Dec\",\"From Mar to Dec\")\n",
    "\n",
    "\n",
    "def myPinterval(x):\n",
    "    if x=='From Feb to Nov':\n",
    "        return([0,1,0,0,1,0,0,1,0,0,1,0])\n",
    "    elif x=='From Jan to Oct':\n",
    "        return([1,0,0,1,0,0,1,0,0,1,0,0])\n",
    "    elif x== 'From Mar to Dec':\n",
    "        return([0,0,1,0,0,1,0,0,1,0,0,1])\n",
    "    else:\n",
    "        return(np.repeat(0,12).tolist())\n",
    "\n",
    "proInt = train_df.PromoInterval.apply(myPinterval).tolist()\n",
    "proInt = pd.DataFrame(proInt, columns = ['PromoInt'+ str(i) for i in range(1,13)])\n",
    "train_df = train_df.drop('PromoInterval',1).join(proInt)"
   ]
  },
  {
   "cell_type": "code",
   "execution_count": 14,
   "id": "a415bce3",
   "metadata": {},
   "outputs": [],
   "source": [
    "# Erstellen Sie eine temporäre Spalte, die 1 ist, wenn der Tag ein Feiertag ist, und 0 sonst\n",
    "train_df['Temp'] = np.where(train_df['StateHoliday'] != 'Kein Feiertag', 1, 0)\n",
    "\n",
    "# Erstellen Sie die Spalte \"TagVorFeiertag\", die 1 ist, wenn der nächste Tag ein Feiertag ist, und 0 sonst\n",
    "train_df['TagVorFeiertag'] = train_df['Temp'].shift(-1).fillna(0)\n",
    "\n",
    "# Erstellen Sie die Spalte \"TagnachFeiertag\", die 1 ist, wenn der vorherige Tag ein Feiertag war, und 0 sonst\n",
    "train_df['TagnachFeiertag'] = train_df['Temp'].shift(1).fillna(0)\n",
    "\n",
    "# Entfernen Sie die temporäre Spalte\n",
    "train_df.drop('Temp', axis=1, inplace=True)"
   ]
  },
  {
   "cell_type": "code",
   "execution_count": 15,
   "id": "498a6038",
   "metadata": {
    "execution": {
     "iopub.execute_input": "2023-07-01T14:44:28.225487Z",
     "iopub.status.busy": "2023-07-01T14:44:28.224826Z",
     "iopub.status.idle": "2023-07-01T14:44:28.575160Z",
     "shell.execute_reply": "2023-07-01T14:44:28.573559Z"
    },
    "papermill": {
     "duration": 0.397747,
     "end_time": "2023-07-01T14:44:28.578121",
     "exception": false,
     "start_time": "2023-07-01T14:44:28.180374",
     "status": "completed"
    },
    "tags": []
   },
   "outputs": [],
   "source": [
    "StateHoliday_dumm = pd.get_dummies(train_df[\"StateHoliday\"])\n",
    "train_df =pd.concat([train_df,StateHoliday_dumm],axis=1)\n",
    "train_df.drop(\"StateHoliday\",axis=1,inplace=True)"
   ]
  },
  {
   "cell_type": "code",
   "execution_count": 16,
   "id": "fa1509c6",
   "metadata": {
    "execution": {
     "iopub.execute_input": "2023-07-01T14:44:28.666688Z",
     "iopub.status.busy": "2023-07-01T14:44:28.666034Z",
     "iopub.status.idle": "2023-07-01T14:44:28.950705Z",
     "shell.execute_reply": "2023-07-01T14:44:28.949589Z"
    },
    "papermill": {
     "duration": 0.332012,
     "end_time": "2023-07-01T14:44:28.953299",
     "exception": false,
     "start_time": "2023-07-01T14:44:28.621287",
     "status": "completed"
    },
    "tags": []
   },
   "outputs": [],
   "source": [
    "StoreType_dumm = pd.get_dummies(train_df[\"StoreType\"])\n",
    "train_df =pd.concat([train_df,StoreType_dumm],axis=1)\n",
    "train_df.drop(\"StoreType\",axis=1,inplace=True)"
   ]
  },
  {
   "cell_type": "code",
   "execution_count": 17,
   "id": "b6a9a520",
   "metadata": {
    "execution": {
     "iopub.execute_input": "2023-07-01T14:44:29.044032Z",
     "iopub.status.busy": "2023-07-01T14:44:29.043361Z",
     "iopub.status.idle": "2023-07-01T14:44:29.265449Z",
     "shell.execute_reply": "2023-07-01T14:44:29.264108Z"
    },
    "papermill": {
     "duration": 0.270246,
     "end_time": "2023-07-01T14:44:29.268357",
     "exception": false,
     "start_time": "2023-07-01T14:44:28.998111",
     "status": "completed"
    },
    "tags": []
   },
   "outputs": [],
   "source": [
    "Assortment_dumm = pd.get_dummies(train_df[\"Assortment\"])\n",
    "train_df =pd.concat([train_df,Assortment_dumm],axis=1)\n",
    "train_df.drop(\"Assortment\",axis=1,inplace=True)"
   ]
  },
  {
   "cell_type": "code",
   "execution_count": 18,
   "id": "00f42585",
   "metadata": {},
   "outputs": [],
   "source": [
    "Assortment_dumm = pd.get_dummies(train_df[\"Season\"])\n",
    "train_df =pd.concat([train_df,Assortment_dumm],axis=1)\n",
    "train_df.drop(\"Season\",axis=1,inplace=True)"
   ]
  },
  {
   "cell_type": "code",
   "execution_count": 19,
   "id": "d5e62d50",
   "metadata": {
    "execution": {
     "iopub.execute_input": "2023-07-01T14:44:29.359127Z",
     "iopub.status.busy": "2023-07-01T14:44:29.358423Z",
     "iopub.status.idle": "2023-07-01T14:44:29.581226Z",
     "shell.execute_reply": "2023-07-01T14:44:29.580282Z"
    },
    "papermill": {
     "duration": 0.27199,
     "end_time": "2023-07-01T14:44:29.583717",
     "exception": false,
     "start_time": "2023-07-01T14:44:29.311727",
     "status": "completed"
    },
    "tags": []
   },
   "outputs": [],
   "source": [
    "# PromoInterval_dumm = pd.get_dummies(train_df[\"PromoInterval\"])\n",
    "# train_df =pd.concat([train_df,PromoInterval_dumm],axis=1)\n",
    "# train_df.drop(\"PromoInterval\",axis=1,inplace=True)"
   ]
  },
  {
   "cell_type": "code",
   "execution_count": 20,
   "id": "1c5226a5",
   "metadata": {
    "execution": {
     "iopub.execute_input": "2023-07-01T14:44:35.933814Z",
     "iopub.status.busy": "2023-07-01T14:44:35.933399Z",
     "iopub.status.idle": "2023-07-01T14:44:35.978566Z",
     "shell.execute_reply": "2023-07-01T14:44:35.977450Z"
    },
    "papermill": {
     "duration": 0.096264,
     "end_time": "2023-07-01T14:44:35.981356",
     "exception": false,
     "start_time": "2023-07-01T14:44:35.885092",
     "status": "completed"
    },
    "tags": []
   },
   "outputs": [],
   "source": [
    "X = train_df.drop([\"Sales\",\"Customers\"],axis=1)\n",
    "Y = train_df[\"Sales\"]"
   ]
  },
  {
   "cell_type": "code",
   "execution_count": 21,
   "id": "1c7d8ada",
   "metadata": {},
   "outputs": [
    {
     "data": {
      "text/html": [
       "<div>\n",
       "<style scoped>\n",
       "    .dataframe tbody tr th:only-of-type {\n",
       "        vertical-align: middle;\n",
       "    }\n",
       "\n",
       "    .dataframe tbody tr th {\n",
       "        vertical-align: top;\n",
       "    }\n",
       "\n",
       "    .dataframe thead th {\n",
       "        text-align: right;\n",
       "    }\n",
       "</style>\n",
       "<table border=\"1\" class=\"dataframe\">\n",
       "  <thead>\n",
       "    <tr style=\"text-align: right;\">\n",
       "      <th></th>\n",
       "      <th>Store ID</th>\n",
       "      <th>DayOfWeek</th>\n",
       "      <th>Open</th>\n",
       "      <th>Promo</th>\n",
       "      <th>SchoolHoliday</th>\n",
       "      <th>CompetitionDistance</th>\n",
       "      <th>CompetitionOpenSinceMonth</th>\n",
       "      <th>CompetitionOpenSinceYear</th>\n",
       "      <th>Promo2</th>\n",
       "      <th>Promo2SinceWeek</th>\n",
       "      <th>...</th>\n",
       "      <th>Type B</th>\n",
       "      <th>Type C</th>\n",
       "      <th>Type D</th>\n",
       "      <th>Basic</th>\n",
       "      <th>Extended</th>\n",
       "      <th>Extra</th>\n",
       "      <th>Frühling</th>\n",
       "      <th>Herbst</th>\n",
       "      <th>Sommer</th>\n",
       "      <th>Winter</th>\n",
       "    </tr>\n",
       "  </thead>\n",
       "  <tbody>\n",
       "    <tr>\n",
       "      <th>0</th>\n",
       "      <td>1</td>\n",
       "      <td>4</td>\n",
       "      <td>1</td>\n",
       "      <td>1</td>\n",
       "      <td>0</td>\n",
       "      <td>570.0</td>\n",
       "      <td>11.0</td>\n",
       "      <td>2007.0</td>\n",
       "      <td>1</td>\n",
       "      <td>13.0</td>\n",
       "      <td>...</td>\n",
       "      <td>0</td>\n",
       "      <td>0</td>\n",
       "      <td>0</td>\n",
       "      <td>1</td>\n",
       "      <td>0</td>\n",
       "      <td>0</td>\n",
       "      <td>1</td>\n",
       "      <td>0</td>\n",
       "      <td>0</td>\n",
       "      <td>0</td>\n",
       "    </tr>\n",
       "    <tr>\n",
       "      <th>1</th>\n",
       "      <td>1</td>\n",
       "      <td>3</td>\n",
       "      <td>1</td>\n",
       "      <td>1</td>\n",
       "      <td>0</td>\n",
       "      <td>570.0</td>\n",
       "      <td>11.0</td>\n",
       "      <td>2007.0</td>\n",
       "      <td>1</td>\n",
       "      <td>13.0</td>\n",
       "      <td>...</td>\n",
       "      <td>0</td>\n",
       "      <td>0</td>\n",
       "      <td>0</td>\n",
       "      <td>1</td>\n",
       "      <td>0</td>\n",
       "      <td>0</td>\n",
       "      <td>1</td>\n",
       "      <td>0</td>\n",
       "      <td>0</td>\n",
       "      <td>0</td>\n",
       "    </tr>\n",
       "    <tr>\n",
       "      <th>2</th>\n",
       "      <td>1</td>\n",
       "      <td>2</td>\n",
       "      <td>1</td>\n",
       "      <td>1</td>\n",
       "      <td>0</td>\n",
       "      <td>570.0</td>\n",
       "      <td>11.0</td>\n",
       "      <td>2007.0</td>\n",
       "      <td>1</td>\n",
       "      <td>13.0</td>\n",
       "      <td>...</td>\n",
       "      <td>0</td>\n",
       "      <td>0</td>\n",
       "      <td>0</td>\n",
       "      <td>1</td>\n",
       "      <td>0</td>\n",
       "      <td>0</td>\n",
       "      <td>1</td>\n",
       "      <td>0</td>\n",
       "      <td>0</td>\n",
       "      <td>0</td>\n",
       "    </tr>\n",
       "    <tr>\n",
       "      <th>3</th>\n",
       "      <td>1</td>\n",
       "      <td>1</td>\n",
       "      <td>1</td>\n",
       "      <td>1</td>\n",
       "      <td>0</td>\n",
       "      <td>570.0</td>\n",
       "      <td>11.0</td>\n",
       "      <td>2007.0</td>\n",
       "      <td>1</td>\n",
       "      <td>13.0</td>\n",
       "      <td>...</td>\n",
       "      <td>0</td>\n",
       "      <td>0</td>\n",
       "      <td>0</td>\n",
       "      <td>1</td>\n",
       "      <td>0</td>\n",
       "      <td>0</td>\n",
       "      <td>1</td>\n",
       "      <td>0</td>\n",
       "      <td>0</td>\n",
       "      <td>0</td>\n",
       "    </tr>\n",
       "    <tr>\n",
       "      <th>4</th>\n",
       "      <td>1</td>\n",
       "      <td>7</td>\n",
       "      <td>0</td>\n",
       "      <td>0</td>\n",
       "      <td>0</td>\n",
       "      <td>570.0</td>\n",
       "      <td>11.0</td>\n",
       "      <td>2007.0</td>\n",
       "      <td>1</td>\n",
       "      <td>13.0</td>\n",
       "      <td>...</td>\n",
       "      <td>0</td>\n",
       "      <td>0</td>\n",
       "      <td>0</td>\n",
       "      <td>1</td>\n",
       "      <td>0</td>\n",
       "      <td>0</td>\n",
       "      <td>1</td>\n",
       "      <td>0</td>\n",
       "      <td>0</td>\n",
       "      <td>0</td>\n",
       "    </tr>\n",
       "    <tr>\n",
       "      <th>...</th>\n",
       "      <td>...</td>\n",
       "      <td>...</td>\n",
       "      <td>...</td>\n",
       "      <td>...</td>\n",
       "      <td>...</td>\n",
       "      <td>...</td>\n",
       "      <td>...</td>\n",
       "      <td>...</td>\n",
       "      <td>...</td>\n",
       "      <td>...</td>\n",
       "      <td>...</td>\n",
       "      <td>...</td>\n",
       "      <td>...</td>\n",
       "      <td>...</td>\n",
       "      <td>...</td>\n",
       "      <td>...</td>\n",
       "      <td>...</td>\n",
       "      <td>...</td>\n",
       "      <td>...</td>\n",
       "      <td>...</td>\n",
       "      <td>...</td>\n",
       "    </tr>\n",
       "    <tr>\n",
       "      <th>246898</th>\n",
       "      <td>300</td>\n",
       "      <td>6</td>\n",
       "      <td>1</td>\n",
       "      <td>0</td>\n",
       "      <td>0</td>\n",
       "      <td>9260.0</td>\n",
       "      <td>0.0</td>\n",
       "      <td>0.0</td>\n",
       "      <td>0</td>\n",
       "      <td>0.0</td>\n",
       "      <td>...</td>\n",
       "      <td>0</td>\n",
       "      <td>0</td>\n",
       "      <td>0</td>\n",
       "      <td>0</td>\n",
       "      <td>1</td>\n",
       "      <td>0</td>\n",
       "      <td>0</td>\n",
       "      <td>0</td>\n",
       "      <td>0</td>\n",
       "      <td>1</td>\n",
       "    </tr>\n",
       "    <tr>\n",
       "      <th>246899</th>\n",
       "      <td>300</td>\n",
       "      <td>5</td>\n",
       "      <td>1</td>\n",
       "      <td>0</td>\n",
       "      <td>1</td>\n",
       "      <td>9260.0</td>\n",
       "      <td>0.0</td>\n",
       "      <td>0.0</td>\n",
       "      <td>0</td>\n",
       "      <td>0.0</td>\n",
       "      <td>...</td>\n",
       "      <td>0</td>\n",
       "      <td>0</td>\n",
       "      <td>0</td>\n",
       "      <td>0</td>\n",
       "      <td>1</td>\n",
       "      <td>0</td>\n",
       "      <td>0</td>\n",
       "      <td>0</td>\n",
       "      <td>0</td>\n",
       "      <td>1</td>\n",
       "    </tr>\n",
       "    <tr>\n",
       "      <th>246900</th>\n",
       "      <td>300</td>\n",
       "      <td>4</td>\n",
       "      <td>1</td>\n",
       "      <td>0</td>\n",
       "      <td>1</td>\n",
       "      <td>9260.0</td>\n",
       "      <td>0.0</td>\n",
       "      <td>0.0</td>\n",
       "      <td>0</td>\n",
       "      <td>0.0</td>\n",
       "      <td>...</td>\n",
       "      <td>0</td>\n",
       "      <td>0</td>\n",
       "      <td>0</td>\n",
       "      <td>0</td>\n",
       "      <td>1</td>\n",
       "      <td>0</td>\n",
       "      <td>0</td>\n",
       "      <td>0</td>\n",
       "      <td>0</td>\n",
       "      <td>1</td>\n",
       "    </tr>\n",
       "    <tr>\n",
       "      <th>246901</th>\n",
       "      <td>300</td>\n",
       "      <td>3</td>\n",
       "      <td>1</td>\n",
       "      <td>0</td>\n",
       "      <td>1</td>\n",
       "      <td>9260.0</td>\n",
       "      <td>0.0</td>\n",
       "      <td>0.0</td>\n",
       "      <td>0</td>\n",
       "      <td>0.0</td>\n",
       "      <td>...</td>\n",
       "      <td>0</td>\n",
       "      <td>0</td>\n",
       "      <td>0</td>\n",
       "      <td>0</td>\n",
       "      <td>1</td>\n",
       "      <td>0</td>\n",
       "      <td>0</td>\n",
       "      <td>0</td>\n",
       "      <td>0</td>\n",
       "      <td>1</td>\n",
       "    </tr>\n",
       "    <tr>\n",
       "      <th>246902</th>\n",
       "      <td>300</td>\n",
       "      <td>2</td>\n",
       "      <td>0</td>\n",
       "      <td>0</td>\n",
       "      <td>1</td>\n",
       "      <td>9260.0</td>\n",
       "      <td>0.0</td>\n",
       "      <td>0.0</td>\n",
       "      <td>0</td>\n",
       "      <td>0.0</td>\n",
       "      <td>...</td>\n",
       "      <td>0</td>\n",
       "      <td>0</td>\n",
       "      <td>0</td>\n",
       "      <td>0</td>\n",
       "      <td>1</td>\n",
       "      <td>0</td>\n",
       "      <td>0</td>\n",
       "      <td>0</td>\n",
       "      <td>0</td>\n",
       "      <td>1</td>\n",
       "    </tr>\n",
       "  </tbody>\n",
       "</table>\n",
       "<p>246903 rows × 48 columns</p>\n",
       "</div>"
      ],
      "text/plain": [
       "        Store ID  DayOfWeek  Open  Promo  SchoolHoliday  CompetitionDistance  \\\n",
       "0              1          4     1      1              0                570.0   \n",
       "1              1          3     1      1              0                570.0   \n",
       "2              1          2     1      1              0                570.0   \n",
       "3              1          1     1      1              0                570.0   \n",
       "4              1          7     0      0              0                570.0   \n",
       "...          ...        ...   ...    ...            ...                  ...   \n",
       "246898       300          6     1      0              0               9260.0   \n",
       "246899       300          5     1      0              1               9260.0   \n",
       "246900       300          4     1      0              1               9260.0   \n",
       "246901       300          3     1      0              1               9260.0   \n",
       "246902       300          2     0      0              1               9260.0   \n",
       "\n",
       "        CompetitionOpenSinceMonth  CompetitionOpenSinceYear  Promo2  \\\n",
       "0                            11.0                    2007.0       1   \n",
       "1                            11.0                    2007.0       1   \n",
       "2                            11.0                    2007.0       1   \n",
       "3                            11.0                    2007.0       1   \n",
       "4                            11.0                    2007.0       1   \n",
       "...                           ...                       ...     ...   \n",
       "246898                        0.0                       0.0       0   \n",
       "246899                        0.0                       0.0       0   \n",
       "246900                        0.0                       0.0       0   \n",
       "246901                        0.0                       0.0       0   \n",
       "246902                        0.0                       0.0       0   \n",
       "\n",
       "        Promo2SinceWeek  ...  Type B  Type C  Type D  Basic  Extended  Extra  \\\n",
       "0                  13.0  ...       0       0       0      1         0      0   \n",
       "1                  13.0  ...       0       0       0      1         0      0   \n",
       "2                  13.0  ...       0       0       0      1         0      0   \n",
       "3                  13.0  ...       0       0       0      1         0      0   \n",
       "4                  13.0  ...       0       0       0      1         0      0   \n",
       "...                 ...  ...     ...     ...     ...    ...       ...    ...   \n",
       "246898              0.0  ...       0       0       0      0         1      0   \n",
       "246899              0.0  ...       0       0       0      0         1      0   \n",
       "246900              0.0  ...       0       0       0      0         1      0   \n",
       "246901              0.0  ...       0       0       0      0         1      0   \n",
       "246902              0.0  ...       0       0       0      0         1      0   \n",
       "\n",
       "        Frühling  Herbst  Sommer  Winter  \n",
       "0              1       0       0       0  \n",
       "1              1       0       0       0  \n",
       "2              1       0       0       0  \n",
       "3              1       0       0       0  \n",
       "4              1       0       0       0  \n",
       "...          ...     ...     ...     ...  \n",
       "246898         0       0       0       1  \n",
       "246899         0       0       0       1  \n",
       "246900         0       0       0       1  \n",
       "246901         0       0       0       1  \n",
       "246902         0       0       0       1  \n",
       "\n",
       "[246903 rows x 48 columns]"
      ]
     },
     "execution_count": 21,
     "metadata": {},
     "output_type": "execute_result"
    }
   ],
   "source": [
    "X"
   ]
  },
  {
   "cell_type": "code",
   "execution_count": 22,
   "id": "8474a2dd",
   "metadata": {
    "execution": {
     "iopub.execute_input": "2023-07-01T14:44:36.076221Z",
     "iopub.status.busy": "2023-07-01T14:44:36.075830Z",
     "iopub.status.idle": "2023-07-01T14:44:36.553521Z",
     "shell.execute_reply": "2023-07-01T14:44:36.552059Z"
    },
    "papermill": {
     "duration": 0.529037,
     "end_time": "2023-07-01T14:44:36.556284",
     "exception": false,
     "start_time": "2023-07-01T14:44:36.027247",
     "status": "completed"
    },
    "tags": []
   },
   "outputs": [],
   "source": [
    "X_train, X_test, y_train, y_test = train_test_split(X,Y,test_size=0.3)"
   ]
  },
  {
   "cell_type": "code",
   "execution_count": 23,
   "id": "36d893ae",
   "metadata": {},
   "outputs": [],
   "source": [
    "forest = RandomForestClassifier(random_state=0)\n",
    "forest.fit(X_train, y_train)\n",
    "importances = forest.feature_importances_\n",
    "importances"
   ]
  },
  {
   "cell_type": "code",
   "execution_count": null,
   "id": "a2d7bcf1",
   "metadata": {
    "execution": {
     "iopub.execute_input": "2023-07-01T14:44:36.758204Z",
     "iopub.status.busy": "2023-07-01T14:44:36.757753Z",
     "iopub.status.idle": "2023-07-01T15:24:40.326341Z",
     "shell.execute_reply": "2023-07-01T15:24:40.324719Z"
    },
    "papermill": {
     "duration": 2403.621192,
     "end_time": "2023-07-01T15:24:40.329515",
     "exception": false,
     "start_time": "2023-07-01T14:44:36.708323",
     "status": "completed"
    },
    "tags": []
   },
   "outputs": [],
   "source": [
    "models=[LinearRegression(), Ridge(), Lasso(), RandomForestClassifier(random_state=42), DecisionTreeRegressor(random_state=42), GradientBoostingRegressor(random_state=42), RandomForestRegressor(n_estimators=42,n_jobs=-1, random_state=42)]\n",
    "model_names=[\"LinearRegression\",\"Ridge\",\"Lasso\",\"RandomForestRegressor\",\"DecisionTreeRegressor\",\"GradientBoostingRegressor\"]\n",
    "\n",
    "MSE=[]\n",
    "r_2=[]\n",
    "accuracy = []\n",
    "RMSE = []\n",
    "training_time = []\n",
    "d={}\n",
    "\n",
    "for index in range (len(models)):\n",
    "    model=models[index]\n",
    "    start_time = time.time()\n",
    "    model.fit(X_train,y_train)\n",
    "    end_time = time.time()\n",
    "    y_pre=model.predict(X_test)\n",
    "\n",
    "    MSE.append(round(mean_squared_error(y_true=y_test,y_pred=y_pre),5))\n",
    "    r_2.append(r2_score(y_true=y_test,y_pred=y_pre))\n",
    "    accuracy.append((model.score(X_test,y_test))*100)\n",
    "    RMSE.append(sqrt(mean_squared_error(y_true=y_test,y_pred=y_pre)))\n",
    "    training_time.append(end_time - start_time)\n",
    "    print(f'{model_names[index]} wurde trainiert und benötigte {end_time - start_time} Sekunden')\n",
    "\n",
    "d=pd.DataFrame({'Modelling Name':model_names,'MSE':MSE,\"R_2\":r_2,\"Accuracy\":accuracy,\"RMSE\":RMSE, \"Training Time\": training_time})\n",
    "print(\"Verwendete Features: \", X_train.columns.tolist())"
   ]
  },
  {
   "cell_type": "code",
   "execution_count": null,
   "id": "cb438076",
   "metadata": {},
   "outputs": [
    {
     "data": {
      "text/html": [
       "<div>\n",
       "<style scoped>\n",
       "    .dataframe tbody tr th:only-of-type {\n",
       "        vertical-align: middle;\n",
       "    }\n",
       "\n",
       "    .dataframe tbody tr th {\n",
       "        vertical-align: top;\n",
       "    }\n",
       "\n",
       "    .dataframe thead th {\n",
       "        text-align: right;\n",
       "    }\n",
       "</style>\n",
       "<table border=\"1\" class=\"dataframe\">\n",
       "  <thead>\n",
       "    <tr style=\"text-align: right;\">\n",
       "      <th></th>\n",
       "      <th>Modelling Name</th>\n",
       "      <th>R_2</th>\n",
       "      <th>RMSE</th>\n",
       "    </tr>\n",
       "  </thead>\n",
       "  <tbody>\n",
       "    <tr>\n",
       "      <th>0</th>\n",
       "      <td>LinearRegression</td>\n",
       "      <td>0.558668</td>\n",
       "      <td>2660.183625</td>\n",
       "    </tr>\n",
       "    <tr>\n",
       "      <th>1</th>\n",
       "      <td>Ridge</td>\n",
       "      <td>0.558673</td>\n",
       "      <td>2660.170845</td>\n",
       "    </tr>\n",
       "    <tr>\n",
       "      <th>2</th>\n",
       "      <td>Lasso</td>\n",
       "      <td>0.558571</td>\n",
       "      <td>2660.476927</td>\n",
       "    </tr>\n",
       "    <tr>\n",
       "      <th>3</th>\n",
       "      <td>RandomForestRegressor</td>\n",
       "      <td>0.931816</td>\n",
       "      <td>1045.615290</td>\n",
       "    </tr>\n",
       "    <tr>\n",
       "      <th>4</th>\n",
       "      <td>DecisionTreeRegressor</td>\n",
       "      <td>0.725656</td>\n",
       "      <td>2097.379471</td>\n",
       "    </tr>\n",
       "    <tr>\n",
       "      <th>5</th>\n",
       "      <td>GradientBoostingRegressor</td>\n",
       "      <td>0.961891</td>\n",
       "      <td>781.701635</td>\n",
       "    </tr>\n",
       "  </tbody>\n",
       "</table>\n",
       "</div>"
      ],
      "text/plain": [
       "              Modelling Name       R_2         RMSE\n",
       "0           LinearRegression  0.558668  2660.183625\n",
       "1                      Ridge  0.558673  2660.170845\n",
       "2                      Lasso  0.558571  2660.476927\n",
       "3      RandomForestRegressor  0.931816  1045.615290\n",
       "4      DecisionTreeRegressor  0.725656  2097.379471\n",
       "5  GradientBoostingRegressor  0.961891   781.701635"
      ]
     },
     "execution_count": 135,
     "metadata": {},
     "output_type": "execute_result"
    }
   ],
   "source": [
    "d[['Modelling Name', 'R_2', 'RMSE']]"
   ]
  },
  {
   "cell_type": "code",
   "execution_count": null,
   "id": "f8c23868",
   "metadata": {},
   "outputs": [
    {
     "data": {
      "text/html": [
       "<div>\n",
       "<style scoped>\n",
       "    .dataframe tbody tr th:only-of-type {\n",
       "        vertical-align: middle;\n",
       "    }\n",
       "\n",
       "    .dataframe tbody tr th {\n",
       "        vertical-align: top;\n",
       "    }\n",
       "\n",
       "    .dataframe thead th {\n",
       "        text-align: right;\n",
       "    }\n",
       "</style>\n",
       "<table border=\"1\" class=\"dataframe\">\n",
       "  <thead>\n",
       "    <tr style=\"text-align: right;\">\n",
       "      <th></th>\n",
       "      <th>Modelling Name</th>\n",
       "      <th>MSE</th>\n",
       "      <th>R_2</th>\n",
       "      <th>Accuracy</th>\n",
       "      <th>RMSE</th>\n",
       "      <th>Training Time</th>\n",
       "    </tr>\n",
       "  </thead>\n",
       "  <tbody>\n",
       "    <tr>\n",
       "      <th>0</th>\n",
       "      <td>LinearRegression</td>\n",
       "      <td>7.076577e+06</td>\n",
       "      <td>0.558668</td>\n",
       "      <td>55.866842</td>\n",
       "      <td>2660.183625</td>\n",
       "      <td>1.204188</td>\n",
       "    </tr>\n",
       "    <tr>\n",
       "      <th>1</th>\n",
       "      <td>Ridge</td>\n",
       "      <td>7.076509e+06</td>\n",
       "      <td>0.558673</td>\n",
       "      <td>55.867266</td>\n",
       "      <td>2660.170845</td>\n",
       "      <td>0.132173</td>\n",
       "    </tr>\n",
       "    <tr>\n",
       "      <th>2</th>\n",
       "      <td>Lasso</td>\n",
       "      <td>7.078137e+06</td>\n",
       "      <td>0.558571</td>\n",
       "      <td>55.857110</td>\n",
       "      <td>2660.476927</td>\n",
       "      <td>4.913526</td>\n",
       "    </tr>\n",
       "    <tr>\n",
       "      <th>3</th>\n",
       "      <td>RandomForestRegressor</td>\n",
       "      <td>1.093311e+06</td>\n",
       "      <td>0.931816</td>\n",
       "      <td>93.181551</td>\n",
       "      <td>1045.615290</td>\n",
       "      <td>1.612458</td>\n",
       "    </tr>\n",
       "    <tr>\n",
       "      <th>4</th>\n",
       "      <td>DecisionTreeRegressor</td>\n",
       "      <td>4.399001e+06</td>\n",
       "      <td>0.725656</td>\n",
       "      <td>72.565579</td>\n",
       "      <td>2097.379471</td>\n",
       "      <td>22.744838</td>\n",
       "    </tr>\n",
       "    <tr>\n",
       "      <th>5</th>\n",
       "      <td>GradientBoostingRegressor</td>\n",
       "      <td>6.110574e+05</td>\n",
       "      <td>0.961891</td>\n",
       "      <td>96.189133</td>\n",
       "      <td>781.701635</td>\n",
       "      <td>9.873735</td>\n",
       "    </tr>\n",
       "  </tbody>\n",
       "</table>\n",
       "</div>"
      ],
      "text/plain": [
       "              Modelling Name           MSE       R_2   Accuracy         RMSE  \\\n",
       "0           LinearRegression  7.076577e+06  0.558668  55.866842  2660.183625   \n",
       "1                      Ridge  7.076509e+06  0.558673  55.867266  2660.170845   \n",
       "2                      Lasso  7.078137e+06  0.558571  55.857110  2660.476927   \n",
       "3      RandomForestRegressor  1.093311e+06  0.931816  93.181551  1045.615290   \n",
       "4      DecisionTreeRegressor  4.399001e+06  0.725656  72.565579  2097.379471   \n",
       "5  GradientBoostingRegressor  6.110574e+05  0.961891  96.189133   781.701635   \n",
       "\n",
       "   Training Time  \n",
       "0       1.204188  \n",
       "1       0.132173  \n",
       "2       4.913526  \n",
       "3       1.612458  \n",
       "4      22.744838  \n",
       "5       9.873735  "
      ]
     },
     "execution_count": 136,
     "metadata": {},
     "output_type": "execute_result"
    }
   ],
   "source": [
    "d"
   ]
  },
  {
   "cell_type": "code",
   "execution_count": null,
   "id": "95382d23",
   "metadata": {},
   "outputs": [
    {
     "ename": "NameError",
     "evalue": "name 'dfg' is not defined",
     "output_type": "error",
     "traceback": [
      "\u001b[0;31m---------------------------------------------------------------------------\u001b[0m",
      "\u001b[0;31mNameError\u001b[0m                                 Traceback (most recent call last)",
      "Cell \u001b[0;32mIn[137], line 1\u001b[0m\n\u001b[0;32m----> 1\u001b[0m \u001b[43mdfg\u001b[49m\n",
      "\u001b[0;31mNameError\u001b[0m: name 'dfg' is not defined"
     ]
    }
   ],
   "source": [
    "dfg"
   ]
  },
  {
   "cell_type": "code",
   "execution_count": null,
   "id": "502a52f1",
   "metadata": {
    "execution": {
     "iopub.execute_input": "2023-07-01T15:24:40.541657Z",
     "iopub.status.busy": "2023-07-01T15:24:40.541000Z",
     "iopub.status.idle": "2023-07-01T15:29:04.134897Z",
     "shell.execute_reply": "2023-07-01T15:29:04.133626Z"
    },
    "papermill": {
     "duration": 263.696182,
     "end_time": "2023-07-01T15:29:04.188166",
     "exception": false,
     "start_time": "2023-07-01T15:24:40.491984",
     "status": "completed"
    },
    "tags": []
   },
   "outputs": [
    {
     "data": {
      "text/html": [
       "<style>#sk-container-id-2 {color: black;}#sk-container-id-2 pre{padding: 0;}#sk-container-id-2 div.sk-toggleable {background-color: white;}#sk-container-id-2 label.sk-toggleable__label {cursor: pointer;display: block;width: 100%;margin-bottom: 0;padding: 0.3em;box-sizing: border-box;text-align: center;}#sk-container-id-2 label.sk-toggleable__label-arrow:before {content: \"▸\";float: left;margin-right: 0.25em;color: #696969;}#sk-container-id-2 label.sk-toggleable__label-arrow:hover:before {color: black;}#sk-container-id-2 div.sk-estimator:hover label.sk-toggleable__label-arrow:before {color: black;}#sk-container-id-2 div.sk-toggleable__content {max-height: 0;max-width: 0;overflow: hidden;text-align: left;background-color: #f0f8ff;}#sk-container-id-2 div.sk-toggleable__content pre {margin: 0.2em;color: black;border-radius: 0.25em;background-color: #f0f8ff;}#sk-container-id-2 input.sk-toggleable__control:checked~div.sk-toggleable__content {max-height: 200px;max-width: 100%;overflow: auto;}#sk-container-id-2 input.sk-toggleable__control:checked~label.sk-toggleable__label-arrow:before {content: \"▾\";}#sk-container-id-2 div.sk-estimator input.sk-toggleable__control:checked~label.sk-toggleable__label {background-color: #d4ebff;}#sk-container-id-2 div.sk-label input.sk-toggleable__control:checked~label.sk-toggleable__label {background-color: #d4ebff;}#sk-container-id-2 input.sk-hidden--visually {border: 0;clip: rect(1px 1px 1px 1px);clip: rect(1px, 1px, 1px, 1px);height: 1px;margin: -1px;overflow: hidden;padding: 0;position: absolute;width: 1px;}#sk-container-id-2 div.sk-estimator {font-family: monospace;background-color: #f0f8ff;border: 1px dotted black;border-radius: 0.25em;box-sizing: border-box;margin-bottom: 0.5em;}#sk-container-id-2 div.sk-estimator:hover {background-color: #d4ebff;}#sk-container-id-2 div.sk-parallel-item::after {content: \"\";width: 100%;border-bottom: 1px solid gray;flex-grow: 1;}#sk-container-id-2 div.sk-label:hover label.sk-toggleable__label {background-color: #d4ebff;}#sk-container-id-2 div.sk-serial::before {content: \"\";position: absolute;border-left: 1px solid gray;box-sizing: border-box;top: 0;bottom: 0;left: 50%;z-index: 0;}#sk-container-id-2 div.sk-serial {display: flex;flex-direction: column;align-items: center;background-color: white;padding-right: 0.2em;padding-left: 0.2em;position: relative;}#sk-container-id-2 div.sk-item {position: relative;z-index: 1;}#sk-container-id-2 div.sk-parallel {display: flex;align-items: stretch;justify-content: center;background-color: white;position: relative;}#sk-container-id-2 div.sk-item::before, #sk-container-id-2 div.sk-parallel-item::before {content: \"\";position: absolute;border-left: 1px solid gray;box-sizing: border-box;top: 0;bottom: 0;left: 50%;z-index: -1;}#sk-container-id-2 div.sk-parallel-item {display: flex;flex-direction: column;z-index: 1;position: relative;background-color: white;}#sk-container-id-2 div.sk-parallel-item:first-child::after {align-self: flex-end;width: 50%;}#sk-container-id-2 div.sk-parallel-item:last-child::after {align-self: flex-start;width: 50%;}#sk-container-id-2 div.sk-parallel-item:only-child::after {width: 0;}#sk-container-id-2 div.sk-dashed-wrapped {border: 1px dashed gray;margin: 0 0.4em 0.5em 0.4em;box-sizing: border-box;padding-bottom: 0.4em;background-color: white;}#sk-container-id-2 div.sk-label label {font-family: monospace;font-weight: bold;display: inline-block;line-height: 1.2em;}#sk-container-id-2 div.sk-label-container {text-align: center;}#sk-container-id-2 div.sk-container {/* jupyter's `normalize.less` sets `[hidden] { display: none; }` but bootstrap.min.css set `[hidden] { display: none !important; }` so we also need the `!important` here to be able to override the default hidden behavior on the sphinx rendered scikit-learn.org. See: https://github.com/scikit-learn/scikit-learn/issues/21755 */display: inline-block !important;position: relative;}#sk-container-id-2 div.sk-text-repr-fallback {display: none;}</style><div id=\"sk-container-id-2\" class=\"sk-top-container\"><div class=\"sk-text-repr-fallback\"><pre>RandomForestRegressor(n_estimators=42, n_jobs=-1)</pre><b>In a Jupyter environment, please rerun this cell to show the HTML representation or trust the notebook. <br />On GitHub, the HTML representation is unable to render, please try loading this page with nbviewer.org.</b></div><div class=\"sk-container\" hidden><div class=\"sk-item\"><div class=\"sk-estimator sk-toggleable\"><input class=\"sk-toggleable__control sk-hidden--visually\" id=\"sk-estimator-id-2\" type=\"checkbox\" checked><label for=\"sk-estimator-id-2\" class=\"sk-toggleable__label sk-toggleable__label-arrow\">RandomForestRegressor</label><div class=\"sk-toggleable__content\"><pre>RandomForestRegressor(n_estimators=42, n_jobs=-1)</pre></div></div></div></div></div>"
      ],
      "text/plain": [
       "RandomForestRegressor(n_estimators=42, n_jobs=-1)"
      ]
     },
     "execution_count": 56,
     "metadata": {},
     "output_type": "execute_result"
    }
   ],
   "source": [
    "model = RandomForestRegressor(n_estimators=42,n_jobs=-1)\n",
    "model.fit(X,Y)"
   ]
  },
  {
   "cell_type": "code",
   "execution_count": null,
   "id": "ab6d2a7d",
   "metadata": {},
   "outputs": [],
   "source": []
  },
  {
   "cell_type": "code",
   "execution_count": null,
   "id": "65464d7c",
   "metadata": {},
   "outputs": [],
   "source": []
  },
  {
   "cell_type": "code",
   "execution_count": null,
   "id": "4dce41aa",
   "metadata": {},
   "outputs": [],
   "source": []
  },
  {
   "cell_type": "code",
   "execution_count": null,
   "id": "dd79834c",
   "metadata": {},
   "outputs": [],
   "source": []
  },
  {
   "cell_type": "code",
   "execution_count": null,
   "id": "0c59ddd5",
   "metadata": {},
   "outputs": [],
   "source": []
  },
  {
   "cell_type": "code",
   "execution_count": null,
   "id": "5773ac67",
   "metadata": {},
   "outputs": [],
   "source": []
  },
  {
   "cell_type": "code",
   "execution_count": null,
   "id": "23c68ac1",
   "metadata": {},
   "outputs": [],
   "source": []
  },
  {
   "cell_type": "code",
   "execution_count": null,
   "id": "21ac56ce",
   "metadata": {
    "execution": {
     "iopub.execute_input": "2023-07-01T15:29:05.159284Z",
     "iopub.status.busy": "2023-07-01T15:29:05.158893Z",
     "iopub.status.idle": "2023-07-01T15:29:05.167743Z",
     "shell.execute_reply": "2023-07-01T15:29:05.166533Z"
    },
    "papermill": {
     "duration": 0.064653,
     "end_time": "2023-07-01T15:29:05.170552",
     "exception": false,
     "start_time": "2023-07-01T15:29:05.105899",
     "status": "completed"
    },
    "tags": []
   },
   "outputs": [],
   "source": [
    "test_df[\"Open\"].replace(np.nan,1,inplace=True)"
   ]
  },
  {
   "cell_type": "code",
   "execution_count": null,
   "id": "8014cf05",
   "metadata": {
    "execution": {
     "iopub.execute_input": "2023-07-01T15:29:05.274409Z",
     "iopub.status.busy": "2023-07-01T15:29:05.273772Z",
     "iopub.status.idle": "2023-07-01T15:29:05.354941Z",
     "shell.execute_reply": "2023-07-01T15:29:05.353843Z"
    },
    "papermill": {
     "duration": 0.13657,
     "end_time": "2023-07-01T15:29:05.357947",
     "exception": false,
     "start_time": "2023-07-01T15:29:05.221377",
     "status": "completed"
    },
    "tags": []
   },
   "outputs": [],
   "source": [
    "test_df[\"CompetitionDistance\"].replace(np.nan,test_df[\"CompetitionDistance\"].mean(),inplace=True)\n",
    "test_df.fillna(0,inplace=True)"
   ]
  },
  {
   "cell_type": "code",
   "execution_count": null,
   "id": "87efa2c6",
   "metadata": {
    "execution": {
     "iopub.execute_input": "2023-07-01T15:29:05.461027Z",
     "iopub.status.busy": "2023-07-01T15:29:05.460611Z",
     "iopub.status.idle": "2023-07-01T15:29:05.476178Z",
     "shell.execute_reply": "2023-07-01T15:29:05.474923Z"
    },
    "papermill": {
     "duration": 0.070504,
     "end_time": "2023-07-01T15:29:05.478806",
     "exception": false,
     "start_time": "2023-07-01T15:29:05.408302",
     "status": "completed"
    },
    "tags": []
   },
   "outputs": [],
   "source": [
    "test_df[\"Date\"] = pd.to_datetime(test_df[\"Date\"])"
   ]
  },
  {
   "cell_type": "code",
   "execution_count": null,
   "id": "ff485284",
   "metadata": {
    "execution": {
     "iopub.execute_input": "2023-07-01T15:29:05.583550Z",
     "iopub.status.busy": "2023-07-01T15:29:05.583178Z",
     "iopub.status.idle": "2023-07-01T15:29:05.591928Z",
     "shell.execute_reply": "2023-07-01T15:29:05.590597Z"
    },
    "papermill": {
     "duration": 0.063928,
     "end_time": "2023-07-01T15:29:05.594347",
     "exception": false,
     "start_time": "2023-07-01T15:29:05.530419",
     "status": "completed"
    },
    "tags": []
   },
   "outputs": [],
   "source": [
    "test_df[\"StateHoliday\"].replace(\"0\",0,inplace=True)"
   ]
  },
  {
   "cell_type": "code",
   "execution_count": null,
   "id": "3513cf05",
   "metadata": {
    "execution": {
     "iopub.execute_input": "2023-07-01T15:29:05.698039Z",
     "iopub.status.busy": "2023-07-01T15:29:05.697588Z",
     "iopub.status.idle": "2023-07-01T15:29:05.724123Z",
     "shell.execute_reply": "2023-07-01T15:29:05.722900Z"
    },
    "papermill": {
     "duration": 0.082073,
     "end_time": "2023-07-01T15:29:05.727018",
     "exception": false,
     "start_time": "2023-07-01T15:29:05.644945",
     "status": "completed"
    },
    "tags": []
   },
   "outputs": [],
   "source": [
    "test_df[\"Day\"] = test_df[\"Date\"].dt.day\n",
    "test_df[\"Month\"] = test_df[\"Date\"].dt.month\n",
    "test_df[\"Year\"] = test_df[\"Date\"].dt.year\n",
    "test_df.drop(\"Date\",axis=1,inplace=True)"
   ]
  },
  {
   "cell_type": "code",
   "execution_count": null,
   "id": "f2be6f6e",
   "metadata": {
    "execution": {
     "iopub.execute_input": "2023-07-01T15:29:05.831331Z",
     "iopub.status.busy": "2023-07-01T15:29:05.830919Z",
     "iopub.status.idle": "2023-07-01T15:29:05.847664Z",
     "shell.execute_reply": "2023-07-01T15:29:05.846429Z"
    },
    "papermill": {
     "duration": 0.072552,
     "end_time": "2023-07-01T15:29:05.850386",
     "exception": false,
     "start_time": "2023-07-01T15:29:05.777834",
     "status": "completed"
    },
    "tags": []
   },
   "outputs": [],
   "source": [
    "test_df[\"StateHoliday\"] = test_df[\"StateHoliday\"].replace(\"a\",\"Public Holiday\").replace(\"b\",\"Ostern\").replace(\"c\",\"Weihnachten\").replace(0,\"Kein Feiertag\")"
   ]
  },
  {
   "cell_type": "code",
   "execution_count": null,
   "id": "2476a21f",
   "metadata": {
    "execution": {
     "iopub.execute_input": "2023-07-01T15:29:05.956683Z",
     "iopub.status.busy": "2023-07-01T15:29:05.956247Z",
     "iopub.status.idle": "2023-07-01T15:29:05.973767Z",
     "shell.execute_reply": "2023-07-01T15:29:05.972456Z"
    },
    "papermill": {
     "duration": 0.073142,
     "end_time": "2023-07-01T15:29:05.976204",
     "exception": false,
     "start_time": "2023-07-01T15:29:05.903062",
     "status": "completed"
    },
    "tags": []
   },
   "outputs": [],
   "source": [
    "test_df[\"StoreType\"] = test_df[\"StoreType\"].replace(\"a\",\"Type A\").replace(\"b\",\"Type B\").replace(\"c\",\"Type C\").replace(\"d\",\"Type D\")"
   ]
  },
  {
   "cell_type": "code",
   "execution_count": null,
   "id": "4ccec4f5",
   "metadata": {
    "execution": {
     "iopub.execute_input": "2023-07-01T15:29:06.081641Z",
     "iopub.status.busy": "2023-07-01T15:29:06.081196Z",
     "iopub.status.idle": "2023-07-01T15:29:06.096195Z",
     "shell.execute_reply": "2023-07-01T15:29:06.095260Z"
    },
    "papermill": {
     "duration": 0.071428,
     "end_time": "2023-07-01T15:29:06.098670",
     "exception": false,
     "start_time": "2023-07-01T15:29:06.027242",
     "status": "completed"
    },
    "tags": []
   },
   "outputs": [],
   "source": [
    "test_df[\"Assortment\"] = test_df[\"Assortment\"].replace(\"a\",\"Basic\").replace(\"b\",\"Extra\").replace(\"c\",\"Extended\")"
   ]
  },
  {
   "cell_type": "code",
   "execution_count": null,
   "id": "c8352d92",
   "metadata": {
    "execution": {
     "iopub.execute_input": "2023-07-01T15:29:06.202169Z",
     "iopub.status.busy": "2023-07-01T15:29:06.201775Z",
     "iopub.status.idle": "2023-07-01T15:29:06.220580Z",
     "shell.execute_reply": "2023-07-01T15:29:06.219348Z"
    },
    "papermill": {
     "duration": 0.07391,
     "end_time": "2023-07-01T15:29:06.223393",
     "exception": false,
     "start_time": "2023-07-01T15:29:06.149483",
     "status": "completed"
    },
    "tags": []
   },
   "outputs": [],
   "source": [
    "test_df[\"PromoInterval\"] = test_df[\"PromoInterval\"].replace(0,\"No PromoInterval\").replace(\"Jan,Apr,Jul,Oct\",\"From Jan to Oct\").replace(\"Feb,May,Aug,Nov\",\"From Feb to Nov\").replace(\"Mar,Jun,Sept,Dec\",\"From Mar to Dec\")"
   ]
  },
  {
   "cell_type": "code",
   "execution_count": null,
   "id": "001ac751",
   "metadata": {
    "execution": {
     "iopub.execute_input": "2023-07-01T15:29:06.329136Z",
     "iopub.status.busy": "2023-07-01T15:29:06.328746Z",
     "iopub.status.idle": "2023-07-01T15:29:06.349940Z",
     "shell.execute_reply": "2023-07-01T15:29:06.348906Z"
    },
    "papermill": {
     "duration": 0.078382,
     "end_time": "2023-07-01T15:29:06.352728",
     "exception": false,
     "start_time": "2023-07-01T15:29:06.274346",
     "status": "completed"
    },
    "tags": []
   },
   "outputs": [],
   "source": [
    "StateHoliday_dumm = pd.get_dummies(test_df[\"StateHoliday\"])\n",
    "test_df =pd.concat([test_df,StateHoliday_dumm],axis=1)\n",
    "test_df.drop(\"StateHoliday\",axis=1,inplace=True)"
   ]
  },
  {
   "cell_type": "code",
   "execution_count": null,
   "id": "88a1453e",
   "metadata": {
    "execution": {
     "iopub.execute_input": "2023-07-01T15:29:06.458938Z",
     "iopub.status.busy": "2023-07-01T15:29:06.458518Z",
     "iopub.status.idle": "2023-07-01T15:29:06.478788Z",
     "shell.execute_reply": "2023-07-01T15:29:06.477474Z"
    },
    "papermill": {
     "duration": 0.076524,
     "end_time": "2023-07-01T15:29:06.481653",
     "exception": false,
     "start_time": "2023-07-01T15:29:06.405129",
     "status": "completed"
    },
    "tags": []
   },
   "outputs": [],
   "source": [
    "StoreType_dumm = pd.get_dummies(test_df[\"StoreType\"])\n",
    "test_df =pd.concat([test_df,StoreType_dumm],axis=1)\n",
    "test_df.drop(\"StoreType\",axis=1,inplace=True)"
   ]
  },
  {
   "cell_type": "code",
   "execution_count": null,
   "id": "1c45b18e",
   "metadata": {
    "execution": {
     "iopub.execute_input": "2023-07-01T15:29:06.595226Z",
     "iopub.status.busy": "2023-07-01T15:29:06.594841Z",
     "iopub.status.idle": "2023-07-01T15:29:06.614537Z",
     "shell.execute_reply": "2023-07-01T15:29:06.613277Z"
    },
    "papermill": {
     "duration": 0.084122,
     "end_time": "2023-07-01T15:29:06.617509",
     "exception": false,
     "start_time": "2023-07-01T15:29:06.533387",
     "status": "completed"
    },
    "tags": []
   },
   "outputs": [],
   "source": [
    "Assortment_dumm = pd.get_dummies(test_df[\"Assortment\"])\n",
    "test_df =pd.concat([test_df,Assortment_dumm],axis=1)\n",
    "test_df.drop(\"Assortment\",axis=1,inplace=True)"
   ]
  },
  {
   "cell_type": "code",
   "execution_count": null,
   "id": "06c0e7bb",
   "metadata": {
    "execution": {
     "iopub.execute_input": "2023-07-01T15:29:06.723622Z",
     "iopub.status.busy": "2023-07-01T15:29:06.723237Z",
     "iopub.status.idle": "2023-07-01T15:29:06.742048Z",
     "shell.execute_reply": "2023-07-01T15:29:06.741113Z"
    },
    "papermill": {
     "duration": 0.075402,
     "end_time": "2023-07-01T15:29:06.744819",
     "exception": false,
     "start_time": "2023-07-01T15:29:06.669417",
     "status": "completed"
    },
    "tags": []
   },
   "outputs": [],
   "source": [
    "PromoInterval_dumm = pd.get_dummies(test_df[\"PromoInterval\"])\n",
    "test_df =pd.concat([test_df,PromoInterval_dumm],axis=1)\n",
    "test_df.drop(\"PromoInterval\",axis=1,inplace=True)"
   ]
  },
  {
   "cell_type": "code",
   "execution_count": null,
   "id": "172017c8",
   "metadata": {
    "execution": {
     "iopub.execute_input": "2023-07-01T15:29:06.854654Z",
     "iopub.status.busy": "2023-07-01T15:29:06.854247Z",
     "iopub.status.idle": "2023-07-01T15:29:06.880832Z",
     "shell.execute_reply": "2023-07-01T15:29:06.879100Z"
    },
    "papermill": {
     "duration": 0.084143,
     "end_time": "2023-07-01T15:29:06.883249",
     "exception": false,
     "start_time": "2023-07-01T15:29:06.799106",
     "status": "completed"
    },
    "tags": []
   },
   "outputs": [
    {
     "data": {
      "text/html": [
       "<div>\n",
       "<style scoped>\n",
       "    .dataframe tbody tr th:only-of-type {\n",
       "        vertical-align: middle;\n",
       "    }\n",
       "\n",
       "    .dataframe tbody tr th {\n",
       "        vertical-align: top;\n",
       "    }\n",
       "\n",
       "    .dataframe thead th {\n",
       "        text-align: right;\n",
       "    }\n",
       "</style>\n",
       "<table border=\"1\" class=\"dataframe\">\n",
       "  <thead>\n",
       "    <tr style=\"text-align: right;\">\n",
       "      <th></th>\n",
       "      <th>Store ID</th>\n",
       "      <th>DayOfWeek</th>\n",
       "      <th>Open</th>\n",
       "      <th>Promo</th>\n",
       "      <th>SchoolHoliday</th>\n",
       "      <th>CompetitionDistance</th>\n",
       "      <th>CompetitionOpenSinceMonth</th>\n",
       "      <th>CompetitionOpenSinceYear</th>\n",
       "      <th>Promo2</th>\n",
       "      <th>Promo2SinceWeek</th>\n",
       "      <th>...</th>\n",
       "      <th>Type B</th>\n",
       "      <th>Type C</th>\n",
       "      <th>Type D</th>\n",
       "      <th>Basic</th>\n",
       "      <th>Extended</th>\n",
       "      <th>Extra</th>\n",
       "      <th>From Feb to Nov</th>\n",
       "      <th>From Jan to Oct</th>\n",
       "      <th>From Mar to Dec</th>\n",
       "      <th>No PromoInterval</th>\n",
       "    </tr>\n",
       "  </thead>\n",
       "  <tbody>\n",
       "    <tr>\n",
       "      <th>0</th>\n",
       "      <td>1</td>\n",
       "      <td>5</td>\n",
       "      <td>1</td>\n",
       "      <td>1</td>\n",
       "      <td>1</td>\n",
       "      <td>570.0</td>\n",
       "      <td>11.0</td>\n",
       "      <td>2007.0</td>\n",
       "      <td>1</td>\n",
       "      <td>13.0</td>\n",
       "      <td>...</td>\n",
       "      <td>0</td>\n",
       "      <td>0</td>\n",
       "      <td>0</td>\n",
       "      <td>1</td>\n",
       "      <td>0</td>\n",
       "      <td>0</td>\n",
       "      <td>0</td>\n",
       "      <td>1</td>\n",
       "      <td>0</td>\n",
       "      <td>0</td>\n",
       "    </tr>\n",
       "    <tr>\n",
       "      <th>1</th>\n",
       "      <td>1</td>\n",
       "      <td>4</td>\n",
       "      <td>1</td>\n",
       "      <td>1</td>\n",
       "      <td>1</td>\n",
       "      <td>570.0</td>\n",
       "      <td>11.0</td>\n",
       "      <td>2007.0</td>\n",
       "      <td>1</td>\n",
       "      <td>13.0</td>\n",
       "      <td>...</td>\n",
       "      <td>0</td>\n",
       "      <td>0</td>\n",
       "      <td>0</td>\n",
       "      <td>1</td>\n",
       "      <td>0</td>\n",
       "      <td>0</td>\n",
       "      <td>0</td>\n",
       "      <td>1</td>\n",
       "      <td>0</td>\n",
       "      <td>0</td>\n",
       "    </tr>\n",
       "    <tr>\n",
       "      <th>2</th>\n",
       "      <td>1</td>\n",
       "      <td>3</td>\n",
       "      <td>1</td>\n",
       "      <td>1</td>\n",
       "      <td>1</td>\n",
       "      <td>570.0</td>\n",
       "      <td>11.0</td>\n",
       "      <td>2007.0</td>\n",
       "      <td>1</td>\n",
       "      <td>13.0</td>\n",
       "      <td>...</td>\n",
       "      <td>0</td>\n",
       "      <td>0</td>\n",
       "      <td>0</td>\n",
       "      <td>1</td>\n",
       "      <td>0</td>\n",
       "      <td>0</td>\n",
       "      <td>0</td>\n",
       "      <td>1</td>\n",
       "      <td>0</td>\n",
       "      <td>0</td>\n",
       "    </tr>\n",
       "    <tr>\n",
       "      <th>3</th>\n",
       "      <td>1</td>\n",
       "      <td>2</td>\n",
       "      <td>1</td>\n",
       "      <td>1</td>\n",
       "      <td>1</td>\n",
       "      <td>570.0</td>\n",
       "      <td>11.0</td>\n",
       "      <td>2007.0</td>\n",
       "      <td>1</td>\n",
       "      <td>13.0</td>\n",
       "      <td>...</td>\n",
       "      <td>0</td>\n",
       "      <td>0</td>\n",
       "      <td>0</td>\n",
       "      <td>1</td>\n",
       "      <td>0</td>\n",
       "      <td>0</td>\n",
       "      <td>0</td>\n",
       "      <td>1</td>\n",
       "      <td>0</td>\n",
       "      <td>0</td>\n",
       "    </tr>\n",
       "    <tr>\n",
       "      <th>4</th>\n",
       "      <td>1</td>\n",
       "      <td>1</td>\n",
       "      <td>1</td>\n",
       "      <td>1</td>\n",
       "      <td>1</td>\n",
       "      <td>570.0</td>\n",
       "      <td>11.0</td>\n",
       "      <td>2007.0</td>\n",
       "      <td>1</td>\n",
       "      <td>13.0</td>\n",
       "      <td>...</td>\n",
       "      <td>0</td>\n",
       "      <td>0</td>\n",
       "      <td>0</td>\n",
       "      <td>1</td>\n",
       "      <td>0</td>\n",
       "      <td>0</td>\n",
       "      <td>0</td>\n",
       "      <td>1</td>\n",
       "      <td>0</td>\n",
       "      <td>0</td>\n",
       "    </tr>\n",
       "  </tbody>\n",
       "</table>\n",
       "<p>5 rows × 27 columns</p>\n",
       "</div>"
      ],
      "text/plain": [
       "   Store ID  DayOfWeek  Open  Promo  SchoolHoliday  CompetitionDistance  \\\n",
       "0         1          5     1      1              1                570.0   \n",
       "1         1          4     1      1              1                570.0   \n",
       "2         1          3     1      1              1                570.0   \n",
       "3         1          2     1      1              1                570.0   \n",
       "4         1          1     1      1              1                570.0   \n",
       "\n",
       "   CompetitionOpenSinceMonth  CompetitionOpenSinceYear  Promo2  \\\n",
       "0                       11.0                    2007.0       1   \n",
       "1                       11.0                    2007.0       1   \n",
       "2                       11.0                    2007.0       1   \n",
       "3                       11.0                    2007.0       1   \n",
       "4                       11.0                    2007.0       1   \n",
       "\n",
       "   Promo2SinceWeek  ...  Type B  Type C  Type D  Basic  Extended  Extra  \\\n",
       "0             13.0  ...       0       0       0      1         0      0   \n",
       "1             13.0  ...       0       0       0      1         0      0   \n",
       "2             13.0  ...       0       0       0      1         0      0   \n",
       "3             13.0  ...       0       0       0      1         0      0   \n",
       "4             13.0  ...       0       0       0      1         0      0   \n",
       "\n",
       "   From Feb to Nov  From Jan to Oct  From Mar to Dec  No PromoInterval  \n",
       "0                0                1                0                 0  \n",
       "1                0                1                0                 0  \n",
       "2                0                1                0                 0  \n",
       "3                0                1                0                 0  \n",
       "4                0                1                0                 0  \n",
       "\n",
       "[5 rows x 27 columns]"
      ]
     },
     "execution_count": 120,
     "metadata": {},
     "output_type": "execute_result"
    }
   ],
   "source": [
    "test_df.head()"
   ]
  },
  {
   "cell_type": "code",
   "execution_count": null,
   "id": "c5486e62",
   "metadata": {
    "execution": {
     "iopub.execute_input": "2023-07-01T15:29:06.990342Z",
     "iopub.status.busy": "2023-07-01T15:29:06.989614Z",
     "iopub.status.idle": "2023-07-01T15:29:06.997692Z",
     "shell.execute_reply": "2023-07-01T15:29:06.996813Z"
    },
    "papermill": {
     "duration": 0.065331,
     "end_time": "2023-07-01T15:29:07.000295",
     "exception": false,
     "start_time": "2023-07-01T15:29:06.934964",
     "status": "completed"
    },
    "tags": []
   },
   "outputs": [
    {
     "ename": "KeyError",
     "evalue": "'Id'",
     "output_type": "error",
     "traceback": [
      "\u001b[0;31m---------------------------------------------------------------------------\u001b[0m",
      "\u001b[0;31mKeyError\u001b[0m                                  Traceback (most recent call last)",
      "File \u001b[0;32m~/opt/anaconda3/envs/bv/lib/python3.10/site-packages/pandas/core/indexes/base.py:3802\u001b[0m, in \u001b[0;36mIndex.get_loc\u001b[0;34m(self, key, method, tolerance)\u001b[0m\n\u001b[1;32m   3801\u001b[0m \u001b[38;5;28;01mtry\u001b[39;00m:\n\u001b[0;32m-> 3802\u001b[0m     \u001b[38;5;28;01mreturn\u001b[39;00m \u001b[38;5;28;43mself\u001b[39;49m\u001b[38;5;241;43m.\u001b[39;49m\u001b[43m_engine\u001b[49m\u001b[38;5;241;43m.\u001b[39;49m\u001b[43mget_loc\u001b[49m\u001b[43m(\u001b[49m\u001b[43mcasted_key\u001b[49m\u001b[43m)\u001b[49m\n\u001b[1;32m   3803\u001b[0m \u001b[38;5;28;01mexcept\u001b[39;00m \u001b[38;5;167;01mKeyError\u001b[39;00m \u001b[38;5;28;01mas\u001b[39;00m err:\n",
      "File \u001b[0;32m~/opt/anaconda3/envs/bv/lib/python3.10/site-packages/pandas/_libs/index.pyx:138\u001b[0m, in \u001b[0;36mpandas._libs.index.IndexEngine.get_loc\u001b[0;34m()\u001b[0m\n",
      "File \u001b[0;32m~/opt/anaconda3/envs/bv/lib/python3.10/site-packages/pandas/_libs/index.pyx:165\u001b[0m, in \u001b[0;36mpandas._libs.index.IndexEngine.get_loc\u001b[0;34m()\u001b[0m\n",
      "File \u001b[0;32mpandas/_libs/hashtable_class_helper.pxi:5745\u001b[0m, in \u001b[0;36mpandas._libs.hashtable.PyObjectHashTable.get_item\u001b[0;34m()\u001b[0m\n",
      "File \u001b[0;32mpandas/_libs/hashtable_class_helper.pxi:5753\u001b[0m, in \u001b[0;36mpandas._libs.hashtable.PyObjectHashTable.get_item\u001b[0;34m()\u001b[0m\n",
      "\u001b[0;31mKeyError\u001b[0m: 'Id'",
      "\nThe above exception was the direct cause of the following exception:\n",
      "\u001b[0;31mKeyError\u001b[0m                                  Traceback (most recent call last)",
      "Cell \u001b[0;32mIn[121], line 1\u001b[0m\n\u001b[0;32m----> 1\u001b[0m ids \u001b[38;5;241m=\u001b[39m \u001b[43mtest_df\u001b[49m\u001b[43m[\u001b[49m\u001b[38;5;124;43m\"\u001b[39;49m\u001b[38;5;124;43mId\u001b[39;49m\u001b[38;5;124;43m\"\u001b[39;49m\u001b[43m]\u001b[49m\n\u001b[1;32m      2\u001b[0m test_df\u001b[38;5;241m.\u001b[39mdrop(\u001b[38;5;124m\"\u001b[39m\u001b[38;5;124mId\u001b[39m\u001b[38;5;124m\"\u001b[39m,axis\u001b[38;5;241m=\u001b[39m\u001b[38;5;241m1\u001b[39m,inplace\u001b[38;5;241m=\u001b[39m\u001b[38;5;28;01mTrue\u001b[39;00m)\n",
      "File \u001b[0;32m~/opt/anaconda3/envs/bv/lib/python3.10/site-packages/pandas/core/frame.py:3807\u001b[0m, in \u001b[0;36mDataFrame.__getitem__\u001b[0;34m(self, key)\u001b[0m\n\u001b[1;32m   3805\u001b[0m \u001b[38;5;28;01mif\u001b[39;00m \u001b[38;5;28mself\u001b[39m\u001b[38;5;241m.\u001b[39mcolumns\u001b[38;5;241m.\u001b[39mnlevels \u001b[38;5;241m>\u001b[39m \u001b[38;5;241m1\u001b[39m:\n\u001b[1;32m   3806\u001b[0m     \u001b[38;5;28;01mreturn\u001b[39;00m \u001b[38;5;28mself\u001b[39m\u001b[38;5;241m.\u001b[39m_getitem_multilevel(key)\n\u001b[0;32m-> 3807\u001b[0m indexer \u001b[38;5;241m=\u001b[39m \u001b[38;5;28;43mself\u001b[39;49m\u001b[38;5;241;43m.\u001b[39;49m\u001b[43mcolumns\u001b[49m\u001b[38;5;241;43m.\u001b[39;49m\u001b[43mget_loc\u001b[49m\u001b[43m(\u001b[49m\u001b[43mkey\u001b[49m\u001b[43m)\u001b[49m\n\u001b[1;32m   3808\u001b[0m \u001b[38;5;28;01mif\u001b[39;00m is_integer(indexer):\n\u001b[1;32m   3809\u001b[0m     indexer \u001b[38;5;241m=\u001b[39m [indexer]\n",
      "File \u001b[0;32m~/opt/anaconda3/envs/bv/lib/python3.10/site-packages/pandas/core/indexes/base.py:3804\u001b[0m, in \u001b[0;36mIndex.get_loc\u001b[0;34m(self, key, method, tolerance)\u001b[0m\n\u001b[1;32m   3802\u001b[0m     \u001b[38;5;28;01mreturn\u001b[39;00m \u001b[38;5;28mself\u001b[39m\u001b[38;5;241m.\u001b[39m_engine\u001b[38;5;241m.\u001b[39mget_loc(casted_key)\n\u001b[1;32m   3803\u001b[0m \u001b[38;5;28;01mexcept\u001b[39;00m \u001b[38;5;167;01mKeyError\u001b[39;00m \u001b[38;5;28;01mas\u001b[39;00m err:\n\u001b[0;32m-> 3804\u001b[0m     \u001b[38;5;28;01mraise\u001b[39;00m \u001b[38;5;167;01mKeyError\u001b[39;00m(key) \u001b[38;5;28;01mfrom\u001b[39;00m \u001b[38;5;21;01merr\u001b[39;00m\n\u001b[1;32m   3805\u001b[0m \u001b[38;5;28;01mexcept\u001b[39;00m \u001b[38;5;167;01mTypeError\u001b[39;00m:\n\u001b[1;32m   3806\u001b[0m     \u001b[38;5;66;03m# If we have a listlike key, _check_indexing_error will raise\u001b[39;00m\n\u001b[1;32m   3807\u001b[0m     \u001b[38;5;66;03m#  InvalidIndexError. Otherwise we fall through and re-raise\u001b[39;00m\n\u001b[1;32m   3808\u001b[0m     \u001b[38;5;66;03m#  the TypeError.\u001b[39;00m\n\u001b[1;32m   3809\u001b[0m     \u001b[38;5;28mself\u001b[39m\u001b[38;5;241m.\u001b[39m_check_indexing_error(key)\n",
      "\u001b[0;31mKeyError\u001b[0m: 'Id'"
     ]
    }
   ],
   "source": [
    "ids = test_df[\"Id\"]\n",
    "test_df.drop(\"Id\",axis=1,inplace=True)"
   ]
  },
  {
   "cell_type": "code",
   "execution_count": null,
   "id": "3d4f9287",
   "metadata": {
    "execution": {
     "iopub.execute_input": "2023-07-01T15:29:07.107544Z",
     "iopub.status.busy": "2023-07-01T15:29:07.106891Z",
     "iopub.status.idle": "2023-07-01T15:29:07.112866Z",
     "shell.execute_reply": "2023-07-01T15:29:07.111779Z"
    },
    "papermill": {
     "duration": 0.063468,
     "end_time": "2023-07-01T15:29:07.115456",
     "exception": false,
     "start_time": "2023-07-01T15:29:07.051988",
     "status": "completed"
    },
    "tags": []
   },
   "outputs": [],
   "source": [
    "test_df[\"Weihnachten\"] = 0\n",
    "test_df[\"Ostern\"] = 0"
   ]
  },
  {
   "cell_type": "code",
   "execution_count": null,
   "id": "832016cb",
   "metadata": {
    "execution": {
     "iopub.execute_input": "2023-07-01T15:29:07.222169Z",
     "iopub.status.busy": "2023-07-01T15:29:07.221779Z",
     "iopub.status.idle": "2023-07-01T15:29:07.233237Z",
     "shell.execute_reply": "2023-07-01T15:29:07.232271Z"
    },
    "papermill": {
     "duration": 0.06799,
     "end_time": "2023-07-01T15:29:07.235812",
     "exception": false,
     "start_time": "2023-07-01T15:29:07.167822",
     "status": "completed"
    },
    "tags": []
   },
   "outputs": [],
   "source": [
    "test_df = test_df[['Store', 'DayOfWeek', 'Open', 'Promo', 'SchoolHoliday',\n",
    "       'CompetitionDistance', 'CompetitionOpenSinceMonth',\n",
    "       'CompetitionOpenSinceYear', 'Promo2', 'Promo2SinceWeek',\n",
    "       'Promo2SinceYear', 'Day', 'Month', 'Year', 'Weihnachten',\n",
    "       'Ostern', 'No Holiday', 'Public Holiday', 'Type A', 'Type B',\n",
    "       'Type C', 'Type D', 'Basic', 'Extended', 'Extra', 'From Feb to Nov',\n",
    "       'From Jan to Oct', 'From Mar to Dec', 'No PromoInterval']]"
   ]
  },
  {
   "cell_type": "code",
   "execution_count": null,
   "id": "7027a08b",
   "metadata": {
    "execution": {
     "iopub.execute_input": "2023-07-01T15:29:07.343976Z",
     "iopub.status.busy": "2023-07-01T15:29:07.343289Z",
     "iopub.status.idle": "2023-07-01T15:29:08.007040Z",
     "shell.execute_reply": "2023-07-01T15:29:08.005841Z"
    },
    "papermill": {
     "duration": 0.721941,
     "end_time": "2023-07-01T15:29:08.009986",
     "exception": false,
     "start_time": "2023-07-01T15:29:07.288045",
     "status": "completed"
    },
    "tags": []
   },
   "outputs": [],
   "source": [
    "Predictions = model.predict(test_df)"
   ]
  },
  {
   "cell_type": "code",
   "execution_count": null,
   "id": "15eff138",
   "metadata": {
    "execution": {
     "iopub.execute_input": "2023-07-01T15:29:08.116807Z",
     "iopub.status.busy": "2023-07-01T15:29:08.116361Z",
     "iopub.status.idle": "2023-07-01T15:29:08.122163Z",
     "shell.execute_reply": "2023-07-01T15:29:08.121044Z"
    },
    "papermill": {
     "duration": 0.061498,
     "end_time": "2023-07-01T15:29:08.124392",
     "exception": false,
     "start_time": "2023-07-01T15:29:08.062894",
     "status": "completed"
    },
    "tags": []
   },
   "outputs": [],
   "source": [
    "Prediction = pd.DataFrame({\"Id\":ids,\"Sales\":Predictions})"
   ]
  },
  {
   "cell_type": "code",
   "execution_count": null,
   "id": "ee5b9941",
   "metadata": {
    "execution": {
     "iopub.execute_input": "2023-07-01T15:29:08.232542Z",
     "iopub.status.busy": "2023-07-01T15:29:08.231765Z",
     "iopub.status.idle": "2023-07-01T15:29:08.393727Z",
     "shell.execute_reply": "2023-07-01T15:29:08.392753Z"
    },
    "papermill": {
     "duration": 0.219542,
     "end_time": "2023-07-01T15:29:08.396591",
     "exception": false,
     "start_time": "2023-07-01T15:29:08.177049",
     "status": "completed"
    },
    "tags": []
   },
   "outputs": [],
   "source": [
    "Prediction.to_csv(\"submission.csv\",index=False)"
   ]
  },
  {
   "cell_type": "code",
   "execution_count": null,
   "id": "522fdd59",
   "metadata": {
    "papermill": {
     "duration": 0.05165,
     "end_time": "2023-07-01T15:29:08.501018",
     "exception": false,
     "start_time": "2023-07-01T15:29:08.449368",
     "status": "completed"
    },
    "tags": []
   },
   "outputs": [],
   "source": []
  }
 ],
 "metadata": {
  "kernelspec": {
   "display_name": "Python 3",
   "language": "python",
   "name": "python3"
  },
  "language_info": {
   "codemirror_mode": {
    "name": "ipython",
    "version": 3
   },
   "file_extension": ".py",
   "mimetype": "text/x-python",
   "name": "python",
   "nbconvert_exporter": "python",
   "pygments_lexer": "ipython3",
   "version": "3.10.11"
  },
  "papermill": {
   "default_parameters": {},
   "duration": 2759.068902,
   "end_time": "2023-07-01T15:29:11.981226",
   "environment_variables": {},
   "exception": null,
   "input_path": "__notebook__.ipynb",
   "output_path": "__notebook__.ipynb",
   "parameters": {},
   "start_time": "2023-07-01T14:43:12.912324",
   "version": "2.4.0"
  }
 },
 "nbformat": 4,
 "nbformat_minor": 5
}
